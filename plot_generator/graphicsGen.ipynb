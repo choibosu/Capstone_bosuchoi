{
 "cells": [
  {
   "cell_type": "code",
   "execution_count": 1,
   "metadata": {},
   "outputs": [],
   "source": [
    "import pandas as pd\n",
    "import matplotlib.pyplot as plt\n",
    "import itertools\n",
    "import networkx as nx\n",
    "from collections import Counter\n",
    "from sklearn import base\n",
    "import json\n",
    "from matplotlib import pylab\n",
    "import pickle"
   ]
  },
  {
   "cell_type": "code",
   "execution_count": 2,
   "metadata": {},
   "outputs": [],
   "source": [
    "multiTimeline_df = pd.read_csv('multiTimeline.csv')"
   ]
  },
  {
   "cell_type": "code",
   "execution_count": 3,
   "metadata": {},
   "outputs": [
    {
     "data": {
      "text/html": [
       "<div>\n",
       "<style scoped>\n",
       "    .dataframe tbody tr th:only-of-type {\n",
       "        vertical-align: middle;\n",
       "    }\n",
       "\n",
       "    .dataframe tbody tr th {\n",
       "        vertical-align: top;\n",
       "    }\n",
       "\n",
       "    .dataframe thead th {\n",
       "        text-align: right;\n",
       "    }\n",
       "</style>\n",
       "<table border=\"1\" class=\"dataframe\">\n",
       "  <thead>\n",
       "    <tr style=\"text-align: right;\">\n",
       "      <th></th>\n",
       "      <th>Category: All categories</th>\n",
       "      <th>Unnamed: 1</th>\n",
       "      <th>Unnamed: 2</th>\n",
       "      <th>Unnamed: 3</th>\n",
       "    </tr>\n",
       "  </thead>\n",
       "  <tbody>\n",
       "    <tr>\n",
       "      <td>0</td>\n",
       "      <td>NaN</td>\n",
       "      <td>NaN</td>\n",
       "      <td>NaN</td>\n",
       "      <td>NaN</td>\n",
       "    </tr>\n",
       "    <tr>\n",
       "      <td>1</td>\n",
       "      <td>Week</td>\n",
       "      <td>stay at home: (United States)</td>\n",
       "      <td>restaurant: (United States)</td>\n",
       "      <td>recipe: (United States)</td>\n",
       "    </tr>\n",
       "    <tr>\n",
       "      <td>2</td>\n",
       "      <td>9/1/2019</td>\n",
       "      <td>&lt;1</td>\n",
       "      <td>43</td>\n",
       "      <td>48</td>\n",
       "    </tr>\n",
       "    <tr>\n",
       "      <td>3</td>\n",
       "      <td>9/8/2019</td>\n",
       "      <td>&lt;1</td>\n",
       "      <td>41</td>\n",
       "      <td>45</td>\n",
       "    </tr>\n",
       "    <tr>\n",
       "      <td>4</td>\n",
       "      <td>9/15/2019</td>\n",
       "      <td>&lt;1</td>\n",
       "      <td>43</td>\n",
       "      <td>46</td>\n",
       "    </tr>\n",
       "    <tr>\n",
       "      <td>5</td>\n",
       "      <td>9/22/2019</td>\n",
       "      <td>&lt;1</td>\n",
       "      <td>43</td>\n",
       "      <td>47</td>\n",
       "    </tr>\n",
       "    <tr>\n",
       "      <td>6</td>\n",
       "      <td>9/29/2019</td>\n",
       "      <td>&lt;1</td>\n",
       "      <td>41</td>\n",
       "      <td>46</td>\n",
       "    </tr>\n",
       "    <tr>\n",
       "      <td>7</td>\n",
       "      <td>10/6/2019</td>\n",
       "      <td>&lt;1</td>\n",
       "      <td>42</td>\n",
       "      <td>49</td>\n",
       "    </tr>\n",
       "    <tr>\n",
       "      <td>8</td>\n",
       "      <td>10/13/2019</td>\n",
       "      <td>&lt;1</td>\n",
       "      <td>43</td>\n",
       "      <td>50</td>\n",
       "    </tr>\n",
       "    <tr>\n",
       "      <td>9</td>\n",
       "      <td>10/20/2019</td>\n",
       "      <td>&lt;1</td>\n",
       "      <td>42</td>\n",
       "      <td>51</td>\n",
       "    </tr>\n",
       "  </tbody>\n",
       "</table>\n",
       "</div>"
      ],
      "text/plain": [
       "  Category: All categories                     Unnamed: 1  \\\n",
       "0                      NaN                            NaN   \n",
       "1                     Week  stay at home: (United States)   \n",
       "2                 9/1/2019                             <1   \n",
       "3                 9/8/2019                             <1   \n",
       "4                9/15/2019                             <1   \n",
       "5                9/22/2019                             <1   \n",
       "6                9/29/2019                             <1   \n",
       "7                10/6/2019                             <1   \n",
       "8               10/13/2019                             <1   \n",
       "9               10/20/2019                             <1   \n",
       "\n",
       "                    Unnamed: 2               Unnamed: 3  \n",
       "0                          NaN                      NaN  \n",
       "1  restaurant: (United States)  recipe: (United States)  \n",
       "2                           43                       48  \n",
       "3                           41                       45  \n",
       "4                           43                       46  \n",
       "5                           43                       47  \n",
       "6                           41                       46  \n",
       "7                           42                       49  \n",
       "8                           43                       50  \n",
       "9                           42                       51  "
      ]
     },
     "execution_count": 3,
     "metadata": {},
     "output_type": "execute_result"
    }
   ],
   "source": [
    "multiTimeline_df.head(10)"
   ]
  },
  {
   "cell_type": "code",
   "execution_count": 4,
   "metadata": {},
   "outputs": [],
   "source": [
    "multiTimeline_df = multiTimeline_df.drop([0, 1]).rename({'Category: All categories': 'Dates','Unnamed: 1': 'Stay at Home',\\\n",
    "                                      'Unnamed: 2': 'Restaurant', 'Unnamed: 3': 'Recipe'}, axis = 1)"
   ]
  },
  {
   "cell_type": "code",
   "execution_count": 5,
   "metadata": {},
   "outputs": [],
   "source": [
    "multiTimeline_df.loc[multiTimeline_df['Stay at Home'] == '<1', 'Stay at Home'] = 0.5"
   ]
  },
  {
   "cell_type": "code",
   "execution_count": 6,
   "metadata": {},
   "outputs": [
    {
     "data": {
      "text/html": [
       "<div>\n",
       "<style scoped>\n",
       "    .dataframe tbody tr th:only-of-type {\n",
       "        vertical-align: middle;\n",
       "    }\n",
       "\n",
       "    .dataframe tbody tr th {\n",
       "        vertical-align: top;\n",
       "    }\n",
       "\n",
       "    .dataframe thead th {\n",
       "        text-align: right;\n",
       "    }\n",
       "</style>\n",
       "<table border=\"1\" class=\"dataframe\">\n",
       "  <thead>\n",
       "    <tr style=\"text-align: right;\">\n",
       "      <th></th>\n",
       "      <th>Dates</th>\n",
       "      <th>Stay at Home</th>\n",
       "      <th>Restaurant</th>\n",
       "      <th>Recipe</th>\n",
       "    </tr>\n",
       "  </thead>\n",
       "  <tbody>\n",
       "    <tr>\n",
       "      <td>2</td>\n",
       "      <td>9/1/2019</td>\n",
       "      <td>0.5</td>\n",
       "      <td>43</td>\n",
       "      <td>48</td>\n",
       "    </tr>\n",
       "    <tr>\n",
       "      <td>3</td>\n",
       "      <td>9/8/2019</td>\n",
       "      <td>0.5</td>\n",
       "      <td>41</td>\n",
       "      <td>45</td>\n",
       "    </tr>\n",
       "    <tr>\n",
       "      <td>4</td>\n",
       "      <td>9/15/2019</td>\n",
       "      <td>0.5</td>\n",
       "      <td>43</td>\n",
       "      <td>46</td>\n",
       "    </tr>\n",
       "    <tr>\n",
       "      <td>5</td>\n",
       "      <td>9/22/2019</td>\n",
       "      <td>0.5</td>\n",
       "      <td>43</td>\n",
       "      <td>47</td>\n",
       "    </tr>\n",
       "    <tr>\n",
       "      <td>6</td>\n",
       "      <td>9/29/2019</td>\n",
       "      <td>0.5</td>\n",
       "      <td>41</td>\n",
       "      <td>46</td>\n",
       "    </tr>\n",
       "  </tbody>\n",
       "</table>\n",
       "</div>"
      ],
      "text/plain": [
       "       Dates Stay at Home Restaurant Recipe\n",
       "2   9/1/2019          0.5         43     48\n",
       "3   9/8/2019          0.5         41     45\n",
       "4  9/15/2019          0.5         43     46\n",
       "5  9/22/2019          0.5         43     47\n",
       "6  9/29/2019          0.5         41     46"
      ]
     },
     "execution_count": 6,
     "metadata": {},
     "output_type": "execute_result"
    }
   ],
   "source": [
    "multiTimeline_df.head()"
   ]
  },
  {
   "cell_type": "code",
   "execution_count": 7,
   "metadata": {},
   "outputs": [],
   "source": [
    "multiTimeline_df['Stay at Home'] = multiTimeline_df['Stay at Home'].astype(float)\n",
    "multiTimeline_df['Restaurant'] = multiTimeline_df['Restaurant'].astype(float)\n",
    "multiTimeline_df['Recipe'] = multiTimeline_df['Recipe'].astype(float)"
   ]
  },
  {
   "cell_type": "code",
   "execution_count": 8,
   "metadata": {},
   "outputs": [],
   "source": [
    "multiTimeline_df['Dates'] = pd.to_datetime(multiTimeline_df['Dates'])"
   ]
  },
  {
   "cell_type": "code",
   "execution_count": 9,
   "metadata": {},
   "outputs": [
    {
     "data": {
      "text/html": [
       "<div>\n",
       "<style scoped>\n",
       "    .dataframe tbody tr th:only-of-type {\n",
       "        vertical-align: middle;\n",
       "    }\n",
       "\n",
       "    .dataframe tbody tr th {\n",
       "        vertical-align: top;\n",
       "    }\n",
       "\n",
       "    .dataframe thead th {\n",
       "        text-align: right;\n",
       "    }\n",
       "</style>\n",
       "<table border=\"1\" class=\"dataframe\">\n",
       "  <thead>\n",
       "    <tr style=\"text-align: right;\">\n",
       "      <th></th>\n",
       "      <th>Dates</th>\n",
       "      <th>Stay at Home</th>\n",
       "      <th>Restaurant</th>\n",
       "      <th>Recipe</th>\n",
       "    </tr>\n",
       "  </thead>\n",
       "  <tbody>\n",
       "    <tr>\n",
       "      <td>2</td>\n",
       "      <td>2019-09-01</td>\n",
       "      <td>0.5</td>\n",
       "      <td>43.0</td>\n",
       "      <td>48.0</td>\n",
       "    </tr>\n",
       "    <tr>\n",
       "      <td>3</td>\n",
       "      <td>2019-09-08</td>\n",
       "      <td>0.5</td>\n",
       "      <td>41.0</td>\n",
       "      <td>45.0</td>\n",
       "    </tr>\n",
       "    <tr>\n",
       "      <td>4</td>\n",
       "      <td>2019-09-15</td>\n",
       "      <td>0.5</td>\n",
       "      <td>43.0</td>\n",
       "      <td>46.0</td>\n",
       "    </tr>\n",
       "    <tr>\n",
       "      <td>5</td>\n",
       "      <td>2019-09-22</td>\n",
       "      <td>0.5</td>\n",
       "      <td>43.0</td>\n",
       "      <td>47.0</td>\n",
       "    </tr>\n",
       "    <tr>\n",
       "      <td>6</td>\n",
       "      <td>2019-09-29</td>\n",
       "      <td>0.5</td>\n",
       "      <td>41.0</td>\n",
       "      <td>46.0</td>\n",
       "    </tr>\n",
       "  </tbody>\n",
       "</table>\n",
       "</div>"
      ],
      "text/plain": [
       "       Dates  Stay at Home  Restaurant  Recipe\n",
       "2 2019-09-01           0.5        43.0    48.0\n",
       "3 2019-09-08           0.5        41.0    45.0\n",
       "4 2019-09-15           0.5        43.0    46.0\n",
       "5 2019-09-22           0.5        43.0    47.0\n",
       "6 2019-09-29           0.5        41.0    46.0"
      ]
     },
     "execution_count": 9,
     "metadata": {},
     "output_type": "execute_result"
    }
   ],
   "source": [
    "multiTimeline_df.head()"
   ]
  },
  {
   "cell_type": "code",
   "execution_count": 10,
   "metadata": {},
   "outputs": [
    {
     "name": "stderr",
     "output_type": "stream",
     "text": [
      "C:\\Users\\choibosu\\Anaconda3\\lib\\site-packages\\pandas\\plotting\\_matplotlib\\converter.py:103: FutureWarning: Using an implicitly registered datetime converter for a matplotlib plotting method. The converter was registered by pandas on import. Future versions of pandas will require you to explicitly register matplotlib converters.\n",
      "\n",
      "To register the converters:\n",
      "\t>>> from pandas.plotting import register_matplotlib_converters\n",
      "\t>>> register_matplotlib_converters()\n",
      "  warnings.warn(msg, FutureWarning)\n"
     ]
    },
    {
     "data": {
      "image/png": "[encoded data removed]",
      "text/plain": [
       "<Figure size 432x288 with 1 Axes>"
      ]
     },
     "metadata": {
      "needs_background": "light"
     },
     "output_type": "display_data"
    }
   ],
   "source": [
    "x = multiTimeline_df.Dates\n",
    "y1 = multiTimeline_df['Stay at Home']\n",
    "y2 = multiTimeline_df.Restaurant\n",
    "y3 = multiTimeline_df.Recipe\n",
    "plt.plot(x, y1, label = 'Stay at Home')\n",
    "#plt.hold(True)\n",
    "plt.plot(x, y2, label = 'Restaurant')\n",
    "plt.plot(x, y3, label = 'Recipe')\n",
    "plt.legend(loc='best')\n",
    "plt.title('Relative Google Search Trend')\n",
    "plt.legend()\n",
    "plt.savefig('line_plot.png')\n",
    "plt.show()"
   ]
  },
  {
   "cell_type": "code",
   "execution_count": 11,
   "metadata": {},
   "outputs": [],
   "source": [
    "with open('recipes.data', 'rb') as recipes:\n",
    "    # read the data as binary data stream\n",
    "    data = pickle.load(recipes)"
   ]
  },
  {
   "cell_type": "code",
   "execution_count": 12,
   "metadata": {},
   "outputs": [],
   "source": [
    "list_pairs = []\n",
    "for recipe in data:\n",
    "    ingredients_per_recipe=[]\n",
    "    \n",
    "    for ingredients in recipe['ingredients']:\n",
    "        \n",
    "        ingredients_per_recipe.append(ingredients['ingredient'])\n",
    "        \n",
    "    list_pairs.extend(list(itertools.combinations(ingredients_per_recipe,2)))      \n",
    "    "
   ]
  },
  {
   "cell_type": "code",
   "execution_count": 13,
   "metadata": {},
   "outputs": [],
   "source": [
    "G = nx.Graph(list_pairs)"
   ]
  },
  {
   "cell_type": "code",
   "execution_count": 14,
   "metadata": {},
   "outputs": [],
   "source": [
    "pr = nx.pagerank(G, alpha = 0.85)"
   ]
  },
  {
   "cell_type": "code",
   "execution_count": 15,
   "metadata": {},
   "outputs": [],
   "source": [
    "sorted_eigs = sorted(pr.items(), key = lambda x: x[1], reverse=True)\n",
    "\n",
    "sorted_rank = []\n",
    "i = 0;\n",
    "for key, value in sorted_eigs[:100]:\n",
    "    \n",
    "   \n",
    "    sorted_rank.append((key, value))"
   ]
  },
  {
   "cell_type": "code",
   "execution_count": 16,
   "metadata": {
    "scrolled": true
   },
   "outputs": [
    {
     "name": "stdout",
     "output_type": "stream",
     "text": [
      "[('salt', 0.008176436247597079), ('water', 0.007780578991317667), ('butter', 0.007476254568940594), ('olive oil', 0.00700626786305559), ('onion', 0.006705928574058085), ('eggs', 0.006558361005895917), ('cloves garlic', 0.006198505560346426), ('white sugar', 0.006109329070595049), ('all purpose flour', 0.004994138840818403), ('vegetable oil', 0.004930171614804003), ('black pepper', 0.004489544071134098), ('brown sugar', 0.003711667455542859), ('milk', 0.0036941422913623822), ('carrots', 0.003237426752759164), ('salt black pepper to taste', 0.003173971467746805), ('tomatoes', 0.003115842757719762), ('celery', 0.0030138306102626923), ('lemon juice', 0.0030076698104833984), ('cinnamon', 0.0029417672663499977), ('onions', 0.0028429402446427158), ('vanilla extract', 0.002689564416983728), ('garlic', 0.002681856372326922), ('clove garlic', 0.002628570592155846), ('garlic powder', 0.002520009881896886), ('cumin', 0.0025038133628717024), ('cream cheese', 0.0024854476818081425), ('ginger', 0.0024512071816012414), ('red onion', 0.0023447270589945198), ('soy sauce', 0.0023328931367075662), ('baking powder', 0.002305710819004243), ('parsley', 0.0022932735173762115), ('oregano', 0.0022667118157039825), ('green bell pepper', 0.0022234872186560517), ('chicken broth', 0.002187872044631928), ('red bell pepper', 0.00214548178643539), ('serving cooking spray', 0.0021365519134913876), ('extra virgin olive oil', 0.0021197150873768587), ('baking soda', 0.0021052934766128003), ('lemon', 0.002093270384850557), ('green onions', 0.0020692611771744394), ('sour cream', 0.0020263634452228623), ('mayonnaise', 0.0019922320466720074), ('honey', 0.001991566710256066), ('mushrooms', 0.0019604598560723375), ('thyme', 0.0019495339680482703), ('unsalted butter', 0.0019196917799682793), ('nutmeg', 0.0018575979648206096), ('beef', 0.0018553709700592882), ('salt to taste', 0.0018450975036639907), ('basil', 0.0018450049731049852), ('bacon', 0.0018425669740389805), ('cilantro', 0.0018083135193286506), ('cayenne pepper', 0.001795731522196417), ('paprika', 0.0017279017495664152), ('chili powder', 0.0016993718149421059), ('cornstarch', 0.0016847086105205651), ('Parmesan cheese', 0.0016839135143040535), ('salt pepper to taste', 0.0016655154307077054), ('Worcestershire sauce', 0.001633234137446549), ('lime juice', 0.0015878705735700564), ('red pepper flakes', 0.0015214617897831213), ('boneless chicken breast', 0.0015139157550093708), ('kosher salt', 0.00149571341021856), ('yellow onion', 0.0014898341748536463), ('white wine', 0.0014462735745646275), ('cream', 0.0014258883670888937), ('bay', 0.0014131889187973844), ('tomato paste', 0.0013751881846453895), ('onion powder', 0.0013716022780526466), ('orange juice', 0.0013616305757226726), ('canola oil', 0.0013368981047777726), ('walnuts', 0.0013105096546961674), ('almonds', 0.0012927952672894328), ('whipping cream', 0.0012837809331152693), ('black pepper to taste', 0.00126750218849415), ('Cheddar cheese', 0.0012587914309825443), ('Dijon mustard', 0.0012499656360506063), ('potatoes', 0.0012415018238199974), ('spinach', 0.0012341182622246866), ('rosemary', 0.0012286985305393326), ('shrimp', 0.0012180745210954155), ('bread', 0.0012152192991594112), ('tomato sauce', 0.0012092030282495844), ('sesame oil', 0.0012077638794318311), ('zucchini', 0.0012031181866033304), ('ginger root', 0.001182935760742245), ('ketchup', 0.0011801208077707012), (\"confectioners' sugar\", 0.00117850431286177), ('sea salt', 0.0011639806195209088), ('egg', 0.0011609016934740247), ('boneless chicken breasts', 0.0011588241262821045), ('lime', 0.0011541700906234202), ('sugar', 0.0011310146438414097), ('pecans', 0.0011178622215986143), ('chicken stock', 0.0011077666826093614), ('raisins', 0.0010737432031148022), ('turmeric', 0.0010634177394971095), ('pineapple', 0.0010629762855081817), ('eaches eggs', 0.0010584778672670704), ('egg whites', 0.0010469138898098367)]\n"
     ]
    }
   ],
   "source": [
    "print(sorted_rank)"
   ]
  },
  {
   "cell_type": "code",
   "execution_count": 17,
   "metadata": {},
   "outputs": [
    {
     "data": {
      "text/plain": [
       "networkx.classes.graph.Graph"
      ]
     },
     "execution_count": 17,
     "metadata": {},
     "output_type": "execute_result"
    }
   ],
   "source": [
    "type(G)"
   ]
  },
  {
   "cell_type": "code",
   "execution_count": null,
   "metadata": {},
   "outputs": [],
   "source": [
    "def save_graph(graph,file_name):\n",
    "    #initialze Figure\n",
    "    #plt.figure(num=None, figsize=(20, 20), dpi=80)\n",
    "    plt.figure()\n",
    "    plt.axis('off')\n",
    "    fig = plt.figure(1)\n",
    "    pos = nx.spring_layout(graph)\n",
    "    nx.draw_networkx_nodes(graph,pos)\n",
    "    nx.draw_networkx_edges(graph,pos)\n",
    "    nx.draw_networkx_labels(graph,pos)\n",
    "\n",
    "    cut = 1.00\n",
    "    xmax = cut * max(xx for xx, yy in pos.values())\n",
    "    ymax = cut * max(yy for xx, yy in pos.values())\n",
    "    plt.xlim(0, xmax)\n",
    "    plt.ylim(0, ymax)\n",
    "\n",
    "    plt.savefig(file_name,bbox_inches=\"tight\")\n",
    "    pylab.close()\n",
    "    del fig\n",
    "\n",
    "#Assuming that the graph g has nodes and edges entered\n",
    "save_graph(G,\"my_graph.png\")\n",
    "\n",
    "#it can also be saved in .svg, .png. or .ps formats"
   ]
  }
 ],
 "metadata": {
  "kernelspec": {
   "display_name": "Python 3",
   "language": "python",
   "name": "python3"
  },
  "language_info": {
   "codemirror_mode": {
    "name": "ipython",
    "version": 3
   },
   "file_extension": ".py",
   "mimetype": "text/x-python",
   "name": "python",
   "nbconvert_exporter": "python",
   "pygments_lexer": "ipython3",
   "version": "3.7.4"
  }
 },
 "nbformat": 4,
 "nbformat_minor": 2
}
